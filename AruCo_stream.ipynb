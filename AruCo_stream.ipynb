{
 "cells": [
  {
   "cell_type": "markdown",
   "metadata": {},
   "source": [
    "# Import libraries"
   ]
  },
  {
   "cell_type": "code",
   "execution_count": 2,
   "metadata": {},
   "outputs": [],
   "source": [
    "import cv2\n",
    "import numpy as np\n",
    "import matplotlib.pyplot as plt\n",
    "%matplotlib inline"
   ]
  },
  {
   "cell_type": "markdown",
   "metadata": {},
   "source": [
    "# Markers generation"
   ]
  },
  {
   "cell_type": "code",
   "execution_count": 3,
   "metadata": {},
   "outputs": [
    {
     "data": {
      "image/png": "[encoded data removed]",
      "text/plain": [
       "<Figure size 1440x1440 with 4 Axes>"
      ]
     },
     "metadata": {
      "needs_background": "light"
     },
     "output_type": "display_data"
    }
   ],
   "source": [
    "dictionary = cv2.aruco.getPredefinedDictionary(cv2.aruco.DICT_6X6_250)\n",
    "markerID = [23, 25, 30, 33]\n",
    "plt.figure(figsize=(20, 20))\n",
    "# Generate marker\n",
    "for i in range(4):\n",
    "    marker = cv2.aruco.generateImageMarker(dictionary, markerID[i], 200)\n",
    "    plt.subplot(1, 4, i+1)\n",
    "    plt.imshow(marker, cmap='gray')\n",
    "    plt.axis('off')\n",
    "    plt.title('ID: ' + str(markerID[i]))\n",
    "plt.show()"
   ]
  },
  {
   "cell_type": "markdown",
   "metadata": {},
   "source": [
    "# Video I/O stream configuration"
   ]
  },
  {
   "cell_type": "code",
   "execution_count": 4,
   "metadata": {},
   "outputs": [
    {
     "ename": "KeyboardInterrupt",
     "evalue": "",
     "output_type": "error",
     "traceback": [
      "\u001b[1;31m---------------------------------------------------------------------------\u001b[0m",
      "\u001b[1;31mKeyboardInterrupt\u001b[0m                         Traceback (most recent call last)",
      "\u001b[1;32mc:\\Users\\JINODK\\Downloads\\Fuldark\\Comp\\Tutorial 4_Aruco-markers\\AruCo_stream.ipynb Cell 7\u001b[0m in \u001b[0;36m<cell line: 5>\u001b[1;34m()\u001b[0m\n\u001b[0;32m      <a href='vscode-notebook-cell:/c%3A/Users/JINODK/Downloads/Fuldark/Comp/Tutorial%204_Aruco-markers/AruCo_stream.ipynb#X13sZmlsZQ%3D%3D?line=2'>3</a>\u001b[0m \u001b[39m# cap = cv2.VideoCapture('00006.mp4')\u001b[39;00m\n\u001b[0;32m      <a href='vscode-notebook-cell:/c%3A/Users/JINODK/Downloads/Fuldark/Comp/Tutorial%204_Aruco-markers/AruCo_stream.ipynb#X13sZmlsZQ%3D%3D?line=3'>4</a>\u001b[0m cap\u001b[39m.\u001b[39mset(cv2\u001b[39m.\u001b[39mCAP_PROP_FRAME_WIDTH, \u001b[39m1920\u001b[39m)\n\u001b[1;32m----> <a href='vscode-notebook-cell:/c%3A/Users/JINODK/Downloads/Fuldark/Comp/Tutorial%204_Aruco-markers/AruCo_stream.ipynb#X13sZmlsZQ%3D%3D?line=4'>5</a>\u001b[0m cap\u001b[39m.\u001b[39;49mset(cv2\u001b[39m.\u001b[39;49mCAP_PROP_FRAME_HEIGHT, \u001b[39m1080\u001b[39;49m)\n\u001b[0;32m      <a href='vscode-notebook-cell:/c%3A/Users/JINODK/Downloads/Fuldark/Comp/Tutorial%204_Aruco-markers/AruCo_stream.ipynb#X13sZmlsZQ%3D%3D?line=5'>6</a>\u001b[0m \u001b[39m# cap.set(cv2.CAP_PROP_FPS, 30)\u001b[39;00m\n\u001b[0;32m      <a href='vscode-notebook-cell:/c%3A/Users/JINODK/Downloads/Fuldark/Comp/Tutorial%204_Aruco-markers/AruCo_stream.ipynb#X13sZmlsZQ%3D%3D?line=6'>7</a>\u001b[0m ret, frame \u001b[39m=\u001b[39m cap\u001b[39m.\u001b[39mread()\n",
      "\u001b[1;31mKeyboardInterrupt\u001b[0m: "
     ]
    }
   ],
   "source": [
    "# open camera stream\n",
    "cap = cv2.VideoCapture(0)\n",
    "# cap = cv2.VideoCapture('00006.mp4')\n",
    "cap.set(cv2.CAP_PROP_FRAME_WIDTH, 1920)\n",
    "cap.set(cv2.CAP_PROP_FRAME_HEIGHT, 1080)\n",
    "# cap.set(cv2.CAP_PROP_FPS, 30)\n",
    "ret, frame = cap.read()\n",
    "\n",
    "# while True:\n",
    "#     ret, frame = cap.read()\n",
    "#     cv2.imshow('frame', frame)\n",
    "#     if cv2.waitKey(1) & 0xFF == ord('q'):\n",
    "#         cv2.destroyAllWindows()\n",
    "#         break\n",
    "\n",
    "# open video stream\n",
    "# vid = cv2.VideoCapture('adu_ang_seng_1080p.mp4')\n",
    "vid = cv2.VideoCapture('Ricc.mp4')\n",
    "ret_vid, frame_vid = vid.read()\n",
    "# pre compute the video frame size\n",
    "pts_src = [[0,0], [frame_vid.shape[1], 0], [frame_vid.shape[1], frame_vid.shape[0]], [0, frame_vid.shape[0]]]\n",
    "pts_src_m = np.asarray(pts_src)\n"
   ]
  },
  {
   "cell_type": "code",
   "execution_count": null,
   "metadata": {},
   "outputs": [],
   "source": [
    "\n",
    "while True:\n",
    "    # detect markers\n",
    "    # frame = cv2.imread('office_markers.jpg')\n",
    "    ret, frame = cap.read()\n",
    "    # handle end of video stream\n",
    "    if not ret:\n",
    "        break\n",
    "    corners, ids, rejected = cv2.aruco.detectMarkers(frame, dictionary)\n",
    "\n",
    "    # if all 4 markers are detected, try extracting the reference points\n",
    "    if ids is not None and len(ids) == 4:\n",
    "        # extract reference point coordinates from marker corners\n",
    "        ref = []\n",
    "        for i in range(len(ids)):\n",
    "            # in order: top left, top right, bottom right, bottom left\n",
    "            index = np.squeeze(np.where(ids == markerID[i]))\n",
    "            ref.append(np.squeeze(corners[index[0]])[i])\n",
    "\n",
    "        # the above code is equivalent to the following code\n",
    "\n",
    "        # # Upper-left corner of ROI.\n",
    "        # index = np.squeeze(np.where(ids == 23))\n",
    "        # ref_pt1 = np.squeeze(corners[index[0]])[0]\n",
    "\n",
    "        # # Upper-right corner of ROI.\n",
    "        # index = np.squeeze(np.where(ids == 25))\n",
    "        # ref_pt2 = np.squeeze(corners[index[0]])[1]\n",
    "\n",
    "        # # Lower-right corner of ROI.\n",
    "        # index = np.squeeze(np.where(ids == 30))\n",
    "        # ref_pt3 = np.squeeze(corners[index[0]])[2]\n",
    "\n",
    "        # # Lower-left corner of ROI.\n",
    "        # index = np.squeeze(np.where(ids == 33))\n",
    "        # ref_pt4 = np.squeeze(corners[index[0]])[3]\n",
    "        \n",
    "        # Rescale the ROI point to the size of the frame\n",
    "        pts_dst = []\n",
    "        for i in range(len(ref)):\n",
    "            pts_dst += [[ref[i][0], ref[i][1]]]\n",
    "\n",
    "        # the above code is equivalent to the following code, don't ask me why\n",
    "\n",
    "        # # Compute horizontal and vertical distance between markers.\n",
    "        # x_distance = np.linalg.norm(ref[0] - ref[1])\n",
    "        # y_distance = np.linalg.norm(ref[0] - ref[2])\n",
    "\n",
    "        # scaling_fac_x = .008  # Scale factor in x (horizontal).\n",
    "        # scaling_fac_y = .012  # Scale factor in y (vertical).\n",
    "\n",
    "        # delta_x = round(scaling_fac_x * x_distance)\n",
    "        # delta_y = round(scaling_fac_y * y_distance)\n",
    "        # # apply the scaling factors to the ArUco Marker reference points to make\n",
    "        # # the final adjustment for the destination points\n",
    "        # pts_dst = [[ref_pt1[0] - delta_x, ref_pt1[1] - delta_y]]\n",
    "        # pts_dst = pts_dst + [[ref_pt2[0] + delta_x, ref_pt2[1] - delta_y]]\n",
    "        # pts_dst = pts_dst + [[ref_pt3[0] + delta_x, ref_pt3[1] + delta_y]]\n",
    "        # pts_dst = pts_dst + [[ref_pt4[0] - delta_x, ref_pt4[1] + delta_y]]\n",
    "\n",
    "        # frame_vid = cv2.imread(\"Apollo-8-Launch.png\")\n",
    "        ret_vid, frame_vid = vid.read()\n",
    "\n",
    "        pts_dst_m = np.asarray(pts_dst)\n",
    "        # calculate the homography\n",
    "        h, mask = cv2.findHomography(pts_src_m, pts_dst_m, cv2.RANSAC)\n",
    "        # warp source image onto the destination image\n",
    "        warped_image = cv2.warpPerspective(frame_vid, h, (frame.shape[1], frame.shape[0]))\n",
    "        # prepare a mask representing the region to copy from the warped image into the destination frame\n",
    "        mask = np.zeros([frame.shape[0], frame.shape[1]], dtype=np.uint8)\n",
    "        # fill ROI in destination frame with white to create mask\n",
    "        cv2.fillConvexPoly(mask, np.int32([pts_dst_m]), (255, 255, 255), cv2.LINE_AA)\n",
    "        # copy the mask into 3 channels\n",
    "        warped_image = warped_image.astype(float)\n",
    "        mask3 = np.zeros_like(warped_image)\n",
    "        for i in range(0, 3):\n",
    "            mask3[:, :, i] = mask / 255\n",
    "        # create inverse mask\n",
    "        mask3_inv = 1 - mask3\n",
    "        # create black region in destination frame ROI\n",
    "        frame_masked = cv2.multiply(frame.astype(float), mask3_inv)\n",
    "        # create final result by adding the warped image with the masked destination frame\n",
    "        frame_out = cv2.add(warped_image, frame_masked)\n",
    "        frame_out = frame_out.astype(np.uint8)\n",
    "\n",
    "        cv2.namedWindow('frame_out', cv2.WINDOW_NORMAL)\n",
    "        # cv2.setWindowProperty('frame_out', cv2.WND_PROP_FULLSCREEN, cv2.WINDOW_FULLSCREEN)\n",
    "        cv2.imshow('frame_out', frame_out)\n",
    "    else:\n",
    "        frame_detected = frame.copy()\n",
    "        cv2.aruco.drawDetectedMarkers(frame_detected, corners, ids)\n",
    "        cv2.namedWindow('frame_out', cv2.WINDOW_NORMAL)\n",
    "        # cv2.setWindowProperty('frame_out', cv2.WND_PROP_FULLSCREEN, cv2.WINDOW_FULLSCREEN)\n",
    "        cv2.imshow('frame_out', frame_detected)\n",
    "    # press esc to quit\n",
    "    if cv2.waitKey(1) == 27:\n",
    "        # destroy all windows btw\n",
    "        cv2.destroyAllWindows()\n",
    "        break\n"
   ]
  },
  {
   "cell_type": "code",
   "execution_count": null,
   "metadata": {},
   "outputs": [],
   "source": []
  }
 ],
 "metadata": {
  "kernelspec": {
   "display_name": "Python 3.10.5 64-bit",
   "language": "python",
   "name": "python3"
  },
  "language_info": {
   "codemirror_mode": {
    "name": "ipython",
    "version": 3
   },
   "file_extension": ".py",
   "mimetype": "text/x-python",
   "name": "python",
   "nbconvert_exporter": "python",
   "pygments_lexer": "ipython3",
   "version": "3.10.5"
  },
  "orig_nbformat": 4,
  "vscode": {
   "interpreter": {
    "hash": "26de051ba29f2982a8de78e945f0abaf191376122a1563185a90213a26c5da77"
   }
  }
 },
 "nbformat": 4,
 "nbformat_minor": 2
}
